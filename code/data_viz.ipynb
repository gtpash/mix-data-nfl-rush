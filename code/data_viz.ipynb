{
 "cells": [
  {
   "cell_type": "code",
   "execution_count": 1,
   "metadata": {},
   "outputs": [
    {
     "name": "stderr",
     "output_type": "stream",
     "text": [
      "/Users/whpowell/anaconda3/lib/python3.6/site-packages/fuzzywuzzy/fuzz.py:11: UserWarning: Using slow pure-python SequenceMatcher. Install python-Levenshtein to remove this warning\n",
      "  warnings.warn('Using slow pure-python SequenceMatcher. Install python-Levenshtein to remove this warning')\n"
     ]
    }
   ],
   "source": [
    "import numpy as np # linear algebra\n",
    "import pandas as pd # data processing, CSV file I/O (e.g. pd.read_csv)\n",
    "pd.options.display.max_columns = 100\n",
    "import matplotlib.pyplot as plt\n",
    "import matplotlib.patches as patches\n",
    "import seaborn as sns\n",
    "from fuzzywuzzy import fuzz\n",
    "import datetime\n",
    "\n",
    "#for image generation\n",
    "from scipy import stats\n",
    "from scipy.special import expit\n",
    "import matplotlib.image as mpimg\n",
    "\n",
    "import time\n",
    "from tqdm import tqdm_notebook"
   ]
  },
  {
   "cell_type": "code",
   "execution_count": 2,
   "metadata": {},
   "outputs": [],
   "source": [
    "## load cleaned data frame\n"
   ]
  },
  {
   "cell_type": "code",
   "execution_count": 3,
   "metadata": {},
   "outputs": [],
   "source": [
    "## codes for data viz\n",
    "# courtesy of CPMP (https://www.kaggle.com/cpmpml/initial-wrangling-voronoi-areas-in-python)\n",
    "# with a few tweaks\n",
    "\n",
    "def create_football_field(df,linenumbers=True,\n",
    "                          highlight_line=False,\n",
    "                          figsize=(12*2, 6.33*2)):\n",
    "    \"\"\"\n",
    "    Function that plots the football field for viewing plays.\n",
    "    Allows for showing or hiding endzones.\n",
    "    \"\"\"\n",
    "    rect = patches.Rectangle((0, 0), 120, 53.3, linewidth=0.1,\n",
    "                             edgecolor='r', facecolor='darkgreen', zorder=0,  alpha=0.5)\n",
    "\n",
    "    fig, ax = plt.subplots(1, figsize=figsize)\n",
    "    ax.add_patch(rect)\n",
    "\n",
    "    # yardline markers\n",
    "    plt.plot([10, 10, 10, 20, 20, 30, 30, 40, 40, 50, 50, 60, 60, 70, 70, 80,\n",
    "              80, 90, 90, 100, 100, 110, 110, 120, 0, 0, 120, 120],\n",
    "             [0, 0, 53.3, 53.3, 0, 0, 53.3, 53.3, 0, 0, 53.3, 53.3, 0, 0, 53.3,\n",
    "              53.3, 0, 0, 53.3, 53.3, 0, 0, 53.3, 53.3, 53.3, 0, 0, 53.3],\n",
    "             color='white')\n",
    "    # Endzones\n",
    "    ez1 = patches.Rectangle((0, 0), 10, 53.3,\n",
    "                            linewidth=0.1,\n",
    "                            edgecolor='r',\n",
    "                            facecolor='red',\n",
    "                            alpha=0.2,\n",
    "                            zorder=0)\n",
    "    ez2 = patches.Rectangle((110, 0), 120, 53.3,\n",
    "                            linewidth=0.1,\n",
    "                            edgecolor='r',\n",
    "                            facecolor='blue',\n",
    "                            alpha=0.2,\n",
    "                            zorder=0)\n",
    "    ax.add_patch(ez1)\n",
    "    ax.add_patch(ez2)\n",
    "    plt.xlim(0, 120)\n",
    "    plt.ylim(-5, 58.3)\n",
    "    plt.axis('off')\n",
    "    \n",
    "    if linenumbers:\n",
    "        for x in range(20, 110, 10):\n",
    "            numb = x\n",
    "            if x > 50:\n",
    "                numb = 120 - x\n",
    "            plt.text(x, 5, str(numb - 10),\n",
    "                     horizontalalignment='center',\n",
    "                     fontsize=20,  # fontname='Arial',\n",
    "                     color='white')\n",
    "            plt.text(x - 0.95, 53.3 - 5, str(numb - 10),\n",
    "                     horizontalalignment='center',\n",
    "                     fontsize=20,  # fontname='Arial',\n",
    "                     color='white', rotation=180)\n",
    "    \n",
    "    # add hashes\n",
    "    hash_range = range(11, 110)\n",
    "\n",
    "    for x in hash_range:\n",
    "        ax.plot([x, x], [0.4, 0.7], color='white')\n",
    "        ax.plot([x, x], [53.0, 52.5], color='white')\n",
    "        ax.plot([x, x], [22.91, 23.57], color='white')\n",
    "        ax.plot([x, x], [29.73, 30.39], color='white')\n",
    "\n",
    "    if highlight_line:\n",
    "        hl = df['YardsFromOwnGoal'] + 10\n",
    "        plt.plot([hl, hl], [0, 53.3], '--', color='white')\n",
    "        hl = hl + df['Distance']\n",
    "        plt.plot([hl, hl], [0, 53.3], '-', color='yellow')\n",
    "    return fig, ax\n",
    "\n",
    "def get_dx_dy(radian_angle, dist):\n",
    "    dx = dist * np.cos(radian_angle)\n",
    "    dy = dist * np.sin(radian_angle)\n",
    "    return dx, dy\n",
    "\n",
    "def show_play(play_id, plays):\n",
    "    df = plays[plays.PlayId == play_id]\n",
    "    Down = df.Down.values[0]\n",
    "    Distance = df.Distance.values[0]\n",
    "    YardLine = df.YardsFromOwnGoal.values[0]\n",
    "    fig, ax = create_football_field(df, highlight_line=True)\n",
    "    ax.scatter(df.loc[df['IsOnOffense']==True].X_std + 10, df.loc[df['IsOnOffense']==True].Y_std, marker='o', facecolors='none', edgecolors='blue', label='Offense', s=100)\n",
    "    ax.scatter(df.loc[df['IsOnOffense']==False].X_std + 10, df.loc[df['IsOnOffense']==False].Y_std, marker='x', c='red', label='Defense', s=100)\n",
    "    rusher_row = df[df.NflIdRusher == df.NflId]\n",
    "    ax.scatter(rusher_row.X_std + 10, rusher_row.Y_std, color='black', s=100, label='Ball Carrier')\n",
    "    yards_covered = rusher_row[\"Yards\"].values[0]\n",
    "\n",
    "    # add arrows to show player velocity vector\n",
    "    for (x, y, Dir, S) in zip(df.X_std, df.Y_std, df.Dir, df.S):       \n",
    "        dx, dy = get_dx_dy(Dir, S)\n",
    "        ax.arrow(x+10, y, dx, dy, length_includes_head=False, width=0.2, color='black', alpha=0.5)\n",
    "    left = 'left' if df.ToLeft.sum() > 0 else 'right'\n",
    "    plt.title(f'Play #{play_id} moving to {left}, Down {Down} & {Distance} to go, LoS is {YardLine} ', fontsize=20)\n",
    "    plt.legend()\n",
    "    plt.show()"
   ]
  },
  {
   "cell_type": "code",
   "execution_count": 4,
   "metadata": {},
   "outputs": [
    {
     "ename": "NameError",
     "evalue": "name 'cleandf' is not defined",
     "output_type": "error",
     "traceback": [
      "\u001b[0;31m---------------------------------------------------------------------------\u001b[0m",
      "\u001b[0;31mNameError\u001b[0m                                 Traceback (most recent call last)",
      "\u001b[0;32m<ipython-input-4-f9529197ef2f>\u001b[0m in \u001b[0;36m<module>\u001b[0;34m\u001b[0m\n\u001b[1;32m      1\u001b[0m \u001b[0mget_ipython\u001b[0m\u001b[0;34m(\u001b[0m\u001b[0;34m)\u001b[0m\u001b[0;34m.\u001b[0m\u001b[0mrun_line_magic\u001b[0m\u001b[0;34m(\u001b[0m\u001b[0;34m'matplotlib'\u001b[0m\u001b[0;34m,\u001b[0m \u001b[0;34m'inline'\u001b[0m\u001b[0;34m)\u001b[0m\u001b[0;34m\u001b[0m\u001b[0;34m\u001b[0m\u001b[0m\n\u001b[0;32m----> 2\u001b[0;31m \u001b[0mshow_play\u001b[0m\u001b[0;34m(\u001b[0m\u001b[0;36m20170910000081\u001b[0m\u001b[0;34m,\u001b[0m \u001b[0mcleandf\u001b[0m\u001b[0;34m)\u001b[0m\u001b[0;34m\u001b[0m\u001b[0;34m\u001b[0m\u001b[0m\n\u001b[0m\u001b[1;32m      3\u001b[0m \u001b[0mshow_play\u001b[0m\u001b[0;34m(\u001b[0m\u001b[0;36m20170910001102\u001b[0m\u001b[0;34m,\u001b[0m \u001b[0mcleandf\u001b[0m\u001b[0;34m)\u001b[0m\u001b[0;34m\u001b[0m\u001b[0;34m\u001b[0m\u001b[0m\n",
      "\u001b[0;31mNameError\u001b[0m: name 'cleandf' is not defined"
     ]
    }
   ],
   "source": [
    "%matplotlib inline\n",
    "show_play(20170910000081, cleandf)\n",
    "show_play(20170910001102, cleandf)"
   ]
  },
  {
   "cell_type": "code",
   "execution_count": null,
   "metadata": {},
   "outputs": [],
   "source": []
  }
 ],
 "metadata": {
  "kernelspec": {
   "display_name": "Python 3",
   "language": "python",
   "name": "python3"
  },
  "language_info": {
   "codemirror_mode": {
    "name": "ipython",
    "version": 3
   },
   "file_extension": ".py",
   "mimetype": "text/x-python",
   "name": "python",
   "nbconvert_exporter": "python",
   "pygments_lexer": "ipython3",
   "version": "3.6.9"
  }
 },
 "nbformat": 4,
 "nbformat_minor": 2
}
